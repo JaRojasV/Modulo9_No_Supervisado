{
 "cells": [
  {
   "cell_type": "markdown",
   "id": "3ae8155c-3ffd-4bc9-a679-b61931272685",
   "metadata": {},
   "source": [
    "# DBSCAN"
   ]
  },
  {
   "cell_type": "code",
   "execution_count": 1,
   "id": "ce78aabb-46b7-49d9-be17-f2c1f6008264",
   "metadata": {},
   "outputs": [
    {
     "name": "stderr",
     "output_type": "stream",
     "text": [
      "/usr/lib/python3/dist-packages/scipy/__init__.py:146: UserWarning: A NumPy version >=1.17.3 and <1.25.0 is required for this version of SciPy (detected version 1.26.2\n",
      "  warnings.warn(f\"A NumPy version >={np_minversion} and <{np_maxversion}\"\n"
     ]
    }
   ],
   "source": [
    "from sklearn.cluster import DBSCAN\n",
    "from sklearn.preprocessing import StandardScaler\n",
    "import numpy as np\n",
    "import pandas as pd\n",
    "import matplotlib.pyplot as plt"
   ]
  },
  {
   "cell_type": "code",
   "execution_count": 2,
   "id": "00fea45b-b342-46e4-8e81-65c715d7ac11",
   "metadata": {},
   "outputs": [],
   "source": [
    "plt.style.use('ggplot')"
   ]
  },
  {
   "cell_type": "markdown",
   "id": "3cffbe59-a099-4f8f-9904-bf5100f86823",
   "metadata": {},
   "source": [
    "## Datos"
   ]
  },
  {
   "cell_type": "code",
   "execution_count": 3,
   "id": "bc48f6da-79cc-48ee-a639-35e36f50d7bd",
   "metadata": {},
   "outputs": [],
   "source": [
    "from crea_tabla import *"
   ]
  },
  {
   "cell_type": "code",
   "execution_count": 4,
   "id": "1504f683-8b7a-40ec-846e-493b31214377",
   "metadata": {},
   "outputs": [
    {
     "name": "stdout",
     "output_type": "stream",
     "text": [
      "Leyendo numpy...\n",
      "Organizando renglones...\n",
      "Creando tabla de datos...\n",
      "Terminado\n"
     ]
    }
   ],
   "source": [
    "datos_1, originales = obtén_tabla_datos(conjuntos=30, escala=0.2)"
   ]
  },
  {
   "cell_type": "code",
   "execution_count": 5,
   "id": "303efe4e-ce42-4e71-8fdf-e9f0fa9ba729",
   "metadata": {},
   "outputs": [],
   "source": [
    "c_eliminadas = [\"f\"]\n",
    "datos_1.drop(c_eliminadas, axis = 1, inplace = True)"
   ]
  },
  {
   "cell_type": "code",
   "execution_count": 6,
   "id": "04442cf7-8ad4-4609-ad0d-a98742011cf9",
   "metadata": {},
   "outputs": [
    {
     "data": {
      "text/html": [
       "<div>\n",
       "<style scoped>\n",
       "    .dataframe tbody tr th:only-of-type {\n",
       "        vertical-align: middle;\n",
       "    }\n",
       "\n",
       "    .dataframe tbody tr th {\n",
       "        vertical-align: top;\n",
       "    }\n",
       "\n",
       "    .dataframe thead th {\n",
       "        text-align: right;\n",
       "    }\n",
       "</style>\n",
       "<table border=\"1\" class=\"dataframe\">\n",
       "  <thead>\n",
       "    <tr style=\"text-align: right;\">\n",
       "      <th></th>\n",
       "      <th>i</th>\n",
       "      <th>j</th>\n",
       "      <th>B</th>\n",
       "      <th>G</th>\n",
       "      <th>R</th>\n",
       "      <th>H</th>\n",
       "      <th>S</th>\n",
       "      <th>V</th>\n",
       "    </tr>\n",
       "  </thead>\n",
       "  <tbody>\n",
       "    <tr>\n",
       "      <th>0</th>\n",
       "      <td>0.0</td>\n",
       "      <td>0.0</td>\n",
       "      <td>112.0</td>\n",
       "      <td>198.0</td>\n",
       "      <td>178.0</td>\n",
       "      <td>37.0</td>\n",
       "      <td>111.0</td>\n",
       "      <td>198.0</td>\n",
       "    </tr>\n",
       "    <tr>\n",
       "      <th>1</th>\n",
       "      <td>0.0</td>\n",
       "      <td>1.0</td>\n",
       "      <td>114.0</td>\n",
       "      <td>198.0</td>\n",
       "      <td>178.0</td>\n",
       "      <td>37.0</td>\n",
       "      <td>108.0</td>\n",
       "      <td>198.0</td>\n",
       "    </tr>\n",
       "    <tr>\n",
       "      <th>2</th>\n",
       "      <td>0.0</td>\n",
       "      <td>2.0</td>\n",
       "      <td>113.0</td>\n",
       "      <td>202.0</td>\n",
       "      <td>181.0</td>\n",
       "      <td>37.0</td>\n",
       "      <td>112.0</td>\n",
       "      <td>202.0</td>\n",
       "    </tr>\n",
       "    <tr>\n",
       "      <th>3</th>\n",
       "      <td>0.0</td>\n",
       "      <td>3.0</td>\n",
       "      <td>111.0</td>\n",
       "      <td>203.0</td>\n",
       "      <td>179.0</td>\n",
       "      <td>38.0</td>\n",
       "      <td>116.0</td>\n",
       "      <td>203.0</td>\n",
       "    </tr>\n",
       "    <tr>\n",
       "      <th>4</th>\n",
       "      <td>0.0</td>\n",
       "      <td>4.0</td>\n",
       "      <td>111.0</td>\n",
       "      <td>203.0</td>\n",
       "      <td>179.0</td>\n",
       "      <td>38.0</td>\n",
       "      <td>116.0</td>\n",
       "      <td>203.0</td>\n",
       "    </tr>\n",
       "  </tbody>\n",
       "</table>\n",
       "</div>"
      ],
      "text/plain": [
       "     i    j      B      G      R     H      S      V\n",
       "0  0.0  0.0  112.0  198.0  178.0  37.0  111.0  198.0\n",
       "1  0.0  1.0  114.0  198.0  178.0  37.0  108.0  198.0\n",
       "2  0.0  2.0  113.0  202.0  181.0  37.0  112.0  202.0\n",
       "3  0.0  3.0  111.0  203.0  179.0  38.0  116.0  203.0\n",
       "4  0.0  4.0  111.0  203.0  179.0  38.0  116.0  203.0"
      ]
     },
     "execution_count": 6,
     "metadata": {},
     "output_type": "execute_result"
    }
   ],
   "source": [
    "datos_1.head()"
   ]
  },
  {
   "cell_type": "markdown",
   "id": "ffc79715-bfad-479b-9efd-20e982ac8ffa",
   "metadata": {},
   "source": [
    "### Visualización en 2D"
   ]
  },
  {
   "cell_type": "code",
   "execution_count": 7,
   "id": "3f40bfd9-5363-4b03-8fb2-8464ce688188",
   "metadata": {},
   "outputs": [
    {
     "data": {
      "image/png": "[encoded data removed]",
      "text/plain": [
       "<Figure size 432x288 with 1 Axes>"
      ]
     },
     "metadata": {},
     "output_type": "display_data"
    }
   ],
   "source": [
    "# Sólo dos componentes\n",
    "# Hay demasiados datos, tomamos una muestra\n",
    "x = datos_1['G'].sample(100)  # Tienen la varianza más alta\n",
    "y = datos_1['S'].sample(100)\n",
    "\n",
    "plt.scatter(x,y)\n",
    "plt.xlabel(\"G\")\n",
    "plt.ylabel(\"S\")\n",
    "plt.show()"
   ]
  },
  {
   "cell_type": "markdown",
   "id": "9a67f71d-d002-4daa-9603-eea5f72b4cf0",
   "metadata": {},
   "source": [
    "### Normalización"
   ]
  },
  {
   "cell_type": "code",
   "execution_count": 8,
   "id": "32813d5a-0f1c-4b9f-bdec-8e091f2162c1",
   "metadata": {},
   "outputs": [],
   "source": [
    "# Como arreglo de numpy\n",
    "muestrea = False\n",
    "if muestrea:\n",
    "    num_muestras = 1000\n",
    "    datos_muestra = datos_1.sample(num_muestras)\n",
    "    datos = datos_muestra\n",
    "else:\n",
    "    datos = datos_1\n",
    "stscaler = StandardScaler().fit(datos)\n",
    "np_datos_escalados = stscaler.transform(datos)"
   ]
  },
  {
   "cell_type": "code",
   "execution_count": 9,
   "id": "2bdaa34e-c28a-4d10-a74b-eaa83c9df58a",
   "metadata": {},
   "outputs": [
    {
     "data": {
      "text/html": [
       "<div>\n",
       "<style scoped>\n",
       "    .dataframe tbody tr th:only-of-type {\n",
       "        vertical-align: middle;\n",
       "    }\n",
       "\n",
       "    .dataframe tbody tr th {\n",
       "        vertical-align: top;\n",
       "    }\n",
       "\n",
       "    .dataframe thead th {\n",
       "        text-align: right;\n",
       "    }\n",
       "</style>\n",
       "<table border=\"1\" class=\"dataframe\">\n",
       "  <thead>\n",
       "    <tr style=\"text-align: right;\">\n",
       "      <th></th>\n",
       "      <th>0</th>\n",
       "      <th>1</th>\n",
       "      <th>2</th>\n",
       "      <th>3</th>\n",
       "      <th>4</th>\n",
       "      <th>5</th>\n",
       "      <th>6</th>\n",
       "      <th>7</th>\n",
       "    </tr>\n",
       "  </thead>\n",
       "  <tbody>\n",
       "    <tr>\n",
       "      <th>count</th>\n",
       "      <td>4.934400e+04</td>\n",
       "      <td>4.934400e+04</td>\n",
       "      <td>4.934400e+04</td>\n",
       "      <td>4.934400e+04</td>\n",
       "      <td>4.934400e+04</td>\n",
       "      <td>4.934400e+04</td>\n",
       "      <td>4.934400e+04</td>\n",
       "      <td>4.934400e+04</td>\n",
       "    </tr>\n",
       "    <tr>\n",
       "      <th>mean</th>\n",
       "      <td>-2.879956e-17</td>\n",
       "      <td>-5.183921e-18</td>\n",
       "      <td>2.030369e-17</td>\n",
       "      <td>2.332764e-17</td>\n",
       "      <td>8.582269e-17</td>\n",
       "      <td>-1.488937e-16</td>\n",
       "      <td>2.563161e-17</td>\n",
       "      <td>1.727974e-17</td>\n",
       "    </tr>\n",
       "    <tr>\n",
       "      <th>std</th>\n",
       "      <td>1.000010e+00</td>\n",
       "      <td>1.000010e+00</td>\n",
       "      <td>1.000010e+00</td>\n",
       "      <td>1.000010e+00</td>\n",
       "      <td>1.000010e+00</td>\n",
       "      <td>1.000010e+00</td>\n",
       "      <td>1.000010e+00</td>\n",
       "      <td>1.000010e+00</td>\n",
       "    </tr>\n",
       "    <tr>\n",
       "      <th>min</th>\n",
       "      <td>-1.723053e+00</td>\n",
       "      <td>-1.725324e+00</td>\n",
       "      <td>-1.458961e+00</td>\n",
       "      <td>-6.607079e-01</td>\n",
       "      <td>-1.170612e+00</td>\n",
       "      <td>-1.342857e+00</td>\n",
       "      <td>-1.031949e+00</td>\n",
       "      <td>-5.797447e-01</td>\n",
       "    </tr>\n",
       "    <tr>\n",
       "      <th>25%</th>\n",
       "      <td>-8.615265e-01</td>\n",
       "      <td>-8.626622e-01</td>\n",
       "      <td>-3.851676e-01</td>\n",
       "      <td>-4.694047e-01</td>\n",
       "      <td>-5.064104e-01</td>\n",
       "      <td>-4.050378e-01</td>\n",
       "      <td>-5.952155e-01</td>\n",
       "      <td>-5.052782e-01</td>\n",
       "    </tr>\n",
       "    <tr>\n",
       "      <th>50%</th>\n",
       "      <td>0.000000e+00</td>\n",
       "      <td>0.000000e+00</td>\n",
       "      <td>-3.453975e-01</td>\n",
       "      <td>-4.502744e-01</td>\n",
       "      <td>-4.849846e-01</td>\n",
       "      <td>-1.196147e-01</td>\n",
       "      <td>-4.379914e-01</td>\n",
       "      <td>-4.866615e-01</td>\n",
       "    </tr>\n",
       "    <tr>\n",
       "      <th>75%</th>\n",
       "      <td>8.615265e-01</td>\n",
       "      <td>8.626622e-01</td>\n",
       "      <td>-1.863169e-01</td>\n",
       "      <td>-2.207105e-01</td>\n",
       "      <td>-2.707260e-01</td>\n",
       "      <td>4.348430e-02</td>\n",
       "      <td>5.115015e-02</td>\n",
       "      <td>-2.446454e-01</td>\n",
       "    </tr>\n",
       "    <tr>\n",
       "      <th>max</th>\n",
       "      <td>1.723053e+00</td>\n",
       "      <td>1.725324e+00</td>\n",
       "      <td>5.182651e+00</td>\n",
       "      <td>3.624484e+00</td>\n",
       "      <td>4.292982e+00</td>\n",
       "      <td>5.955822e+00</td>\n",
       "      <td>3.422733e+00</td>\n",
       "      <td>3.664846e+00</td>\n",
       "    </tr>\n",
       "  </tbody>\n",
       "</table>\n",
       "</div>"
      ],
      "text/plain": [
       "                  0             1             2             3             4  \\\n",
       "count  4.934400e+04  4.934400e+04  4.934400e+04  4.934400e+04  4.934400e+04   \n",
       "mean  -2.879956e-17 -5.183921e-18  2.030369e-17  2.332764e-17  8.582269e-17   \n",
       "std    1.000010e+00  1.000010e+00  1.000010e+00  1.000010e+00  1.000010e+00   \n",
       "min   -1.723053e+00 -1.725324e+00 -1.458961e+00 -6.607079e-01 -1.170612e+00   \n",
       "25%   -8.615265e-01 -8.626622e-01 -3.851676e-01 -4.694047e-01 -5.064104e-01   \n",
       "50%    0.000000e+00  0.000000e+00 -3.453975e-01 -4.502744e-01 -4.849846e-01   \n",
       "75%    8.615265e-01  8.626622e-01 -1.863169e-01 -2.207105e-01 -2.707260e-01   \n",
       "max    1.723053e+00  1.725324e+00  5.182651e+00  3.624484e+00  4.292982e+00   \n",
       "\n",
       "                  5             6             7  \n",
       "count  4.934400e+04  4.934400e+04  4.934400e+04  \n",
       "mean  -1.488937e-16  2.563161e-17  1.727974e-17  \n",
       "std    1.000010e+00  1.000010e+00  1.000010e+00  \n",
       "min   -1.342857e+00 -1.031949e+00 -5.797447e-01  \n",
       "25%   -4.050378e-01 -5.952155e-01 -5.052782e-01  \n",
       "50%   -1.196147e-01 -4.379914e-01 -4.866615e-01  \n",
       "75%    4.348430e-02  5.115015e-02 -2.446454e-01  \n",
       "max    5.955822e+00  3.422733e+00  3.664846e+00  "
      ]
     },
     "execution_count": 9,
     "metadata": {},
     "output_type": "execute_result"
    }
   ],
   "source": [
    "# Obtén estadísticas de los datos escalados\n",
    "df_datos_escalados = pd.DataFrame(np_datos_escalados)\n",
    "df_datos_escalados.describe()"
   ]
  },
  {
   "cell_type": "code",
   "execution_count": 10,
   "id": "6996315c-2569-4eba-87a0-b76a46ce3ad2",
   "metadata": {},
   "outputs": [
    {
     "data": {
      "text/plain": [
       "49344"
      ]
     },
     "execution_count": 10,
     "metadata": {},
     "output_type": "execute_result"
    }
   ],
   "source": [
    "len(df_datos_escalados)"
   ]
  },
  {
   "cell_type": "markdown",
   "id": "368f5970-b544-429b-bae8-45b6d520dd35",
   "metadata": {},
   "source": [
    "## Modelo DBSCAN"
   ]
  },
  {
   "cell_type": "code",
   "execution_count": 11,
   "id": "554ed97e-b985-4fed-a77a-1e0ccc20354e",
   "metadata": {},
   "outputs": [],
   "source": [
    "import time as time"
   ]
  },
  {
   "cell_type": "code",
   "execution_count": 18,
   "id": "d5b5029d-516b-4585-904d-2b885dbe8e11",
   "metadata": {},
   "outputs": [
    {
     "name": "stdout",
     "output_type": "stream",
     "text": [
      "Tiempo transcurrido: 7.151s\n"
     ]
    }
   ],
   "source": [
    "# Cuidado: si epsilon es grande y min ejemplares es pequeño la complejidad\n",
    "# pasa de O(n) a O(n^2)\n",
    "# Epsilon = 0.5\n",
    "# Número mínimo de ejemplares en la vecindad = 1% de num_muestras\n",
    "min_samples = int(len(df_datos_escalados) * 0.01)\n",
    "t_ini = time.time()\n",
    "dbsc = DBSCAN(eps = .5, min_samples = min_samples).fit(np_datos_escalados)\n",
    "print(f\"Tiempo transcurrido: {time.time() - t_ini:.3f}s\")"
   ]
  },
  {
   "cell_type": "code",
   "execution_count": 19,
   "id": "8a7ba111-dccc-4638-955d-e7d51da2e38d",
   "metadata": {},
   "outputs": [],
   "source": [
    "# Ruido es -1\n",
    "labels = dbsc.labels_\n",
    "core_samples = np.zeros_like(labels, dtype = bool)\n",
    "core_samples[dbsc.core_sample_indices_] = True"
   ]
  },
  {
   "cell_type": "code",
   "execution_count": 22,
   "id": "4294cec1-0802-4638-ba7e-f7690050770c",
   "metadata": {},
   "outputs": [
    {
     "name": "stdout",
     "output_type": "stream",
     "text": [
      "Etiqueta más grande: 3\n"
     ]
    }
   ],
   "source": [
    "print(\"Etiqueta más grande:\" ,labels.max())"
   ]
  },
  {
   "cell_type": "markdown",
   "id": "2f4c5507-fdf8-488a-b9fe-b232b53f726d",
   "metadata": {},
   "source": [
    "## Resultados"
   ]
  },
  {
   "cell_type": "code",
   "execution_count": 20,
   "id": "d42618be-9a5c-4dad-9943-534be3976273",
   "metadata": {},
   "outputs": [],
   "source": [
    "rens = originales[0].shape[0]\n",
    "cols = originales[0].shape[1]\n",
    "grupos = labels.reshape((rens, cols))"
   ]
  },
  {
   "cell_type": "code",
   "execution_count": 23,
   "id": "65953b8c-d078-42f5-b93b-6aa102f2ffb3",
   "metadata": {},
   "outputs": [
    {
     "name": "stderr",
     "output_type": "stream",
     "text": [
      "/tmp/ipykernel_7482/1507473639.py:2: MatplotlibDeprecationWarning: Auto-removal of grids by pcolor() and pcolormesh() is deprecated since 3.5 and will be removed two minor releases later; please call grid(False) first.\n",
      "  plt.colorbar()\n"
     ]
    },
    {
     "data": {
      "text/plain": [
       "<matplotlib.colorbar.Colorbar at 0x70f38ea6dd50>"
      ]
     },
     "execution_count": 23,
     "metadata": {},
     "output_type": "execute_result"
    },
    {
     "data": {
      "image/png": "[encoded data removed]",
      "text/plain": [
       "<Figure size 432x288 with 2 Axes>"
      ]
     },
     "metadata": {},
     "output_type": "display_data"
    }
   ],
   "source": [
    "plt.imshow(grupos)\n",
    "plt.colorbar()"
   ]
  },
  {
   "cell_type": "code",
   "execution_count": null,
   "id": "2785839d-98ac-4a20-9073-4195025fbc3e",
   "metadata": {},
   "outputs": [],
   "source": []
  }
 ],
 "metadata": {
  "kernelspec": {
   "display_name": "Python 3 (ipykernel)",
   "language": "python",
   "name": "python3"
  },
  "language_info": {
   "codemirror_mode": {
    "name": "ipython",
    "version": 3
   },
   "file_extension": ".py",
   "mimetype": "text/x-python",
   "name": "python",
   "nbconvert_exporter": "python",
   "pygments_lexer": "ipython3",
   "version": "3.10.12"
  }
 },
 "nbformat": 4,
 "nbformat_minor": 5
}
